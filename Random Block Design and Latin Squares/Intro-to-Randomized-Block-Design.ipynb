{
  "cells": [
    {
      "cell_type": "markdown",
      "id": "516fcbf1",
      "metadata": {
        "id": "516fcbf1"
      },
      "source": [
        "# Introduction to Randomized Block Design\n",
        "# Incorporating Additional Sources of Variation in Our Designs\n",
        "## Dr Austin R Brown\n",
        "## School of Data Science and Analytics\n",
        "### Kennesaw State University"
      ]
    },
    {
      "cell_type": "code",
      "execution_count": 1,
      "id": "39e0cd1f",
      "metadata": {
        "id": "39e0cd1f",
        "outputId": "b0ae3082-ab77-4dd9-aa63-e12c403645fe",
        "colab": {
          "base_uri": "https://localhost:8080/"
        }
      },
      "outputs": [
        {
          "output_type": "stream",
          "name": "stdout",
          "text": [
            "📥 Cloning repo from https://github.com/brookskeehley/STAT-7220-Applied-Experimental-Design.git...\n",
            "📂 Changed directory to: /content/STAT-7220-Applied-Experimental-Design\n",
            "🔗 Connected to fork at: https://github.com/brookskeehley/STAT-7220-Applied-Experimental-Design.git\n",
            "📂 Changed directory to: /content/STAT-7220-Applied-Experimental-Design\n"
          ]
        }
      ],
      "source": [
        "# === COURSE REPO SETUP === #\n",
        "\n",
        "# 1. ENTER your GitHub username (the one that owns your fork)\n",
        "github_username = \"brookskeehley\"\n",
        "\n",
        "# 2. Name of the repo (don't change unless your fork name is different)\n",
        "repo_name = \"STAT-7220-Applied-Experimental-Design\"\n",
        "\n",
        "# 3. Build the full repo URL for cloning\n",
        "repo_url = f\"https://github.com/{github_username}/{repo_name}.git\"\n",
        "\n",
        "import os\n",
        "\n",
        "# --- Detect if we're already in a repo ---\n",
        "cwd = os.getcwd()\n",
        "if cwd.endswith(repo_name):\n",
        "    print(f\"✅ Already inside repo folder: {cwd}\")\n",
        "else:\n",
        "   # --- If the repo folder exists, check if it's nested ---\n",
        "    if os.path.exists(repo_name):\n",
        "        print(f\"⚠️ Found existing folder '{repo_name}'. Skipping clone to avoid nesting.\")\n",
        "    else:\n",
        "        print(f\"📥 Cloning repo from {repo_url}...\")\n",
        "        os.system(f\"git clone {repo_url}\")\n",
        "\n",
        "    # --- Change to repo directory ---\n",
        "    if os.path.exists(repo_name):\n",
        "        os.chdir(repo_name)\n",
        "        print(f\"📂 Changed directory to: {os.getcwd()}\")\n",
        "    else:\n",
        "        print(\"❌ ERROR: Repo folder not found. Please check your GitHub username.\")\n",
        "\n",
        "# --- Check if this is the instructor's repo instead of student's fork ---\n",
        "# This command needs to be run from within the repository directory\n",
        "remote_url = os.popen(\"git config --get remote.origin.url\").read().strip()\n",
        "\n",
        "if \"abrown9008\" in remote_url:\n",
        "   print(\"⚠️ WARNING: You are working in the instructor's repo, not your fork!\")\n",
        "   print(\"💡 Please fork the repo to your own account and update `github_username` above.\")\n",
        "else:\n",
        "   print(f\"🔗 Connected to fork at: {remote_url}\")\n",
        "\n",
        "# Set Today's Directory #\n",
        "\n",
        "#today_dir = \"Random Block Design and Latin Squares\"\n",
        "#os.chdir(today_dir)\n",
        "print(f\"📂 Changed directory to: {os.getcwd()}\")"
      ]
    },
    {
      "cell_type": "markdown",
      "id": "fbaa1728",
      "metadata": {
        "id": "fbaa1728"
      },
      "source": [
        "## Introduction\n",
        "\n",
        "- In the last section, we were introduced to the completely randomized design.\n",
        "\n",
        "- Recall, one of the **key characteristics of a CRD** is that the treatments are assigned to the experimental units at random.\n",
        "\n",
        "- Additionally, in CRD, we are assuming that we don't have any extraneous sources of variation that could affect the response variable.\n",
        "\n",
        "    - In other words, we are assuming that the experimental units are homogeneous and that there is no other controllable source of variation (read, independent/explantory/lurking variable) that could affect the response variable.\n",
        "\n",
        "- In practice, especially when working with humans, this is rarely the case.\n",
        "\n",
        "## Example: Comparing Exercise Interventions in Adults with Type 2 Diabetes\n",
        "\n",
        "- Let's consider an example. Suppose researchers at KSU are interested in understanding how different types of exercise impact blood sugar control (as measured by HbA1c percentage) in adults with Type 2 diabetes.\n",
        "\n",
        "- The three different exercise interventions the researchers would like to compare are:\n",
        "\n",
        "    1.  Aerobic Exercise (e.g., treadmill walking/jogging)\n",
        "    2.  Resistance Training (e.g., weight lifting)\n",
        "    3.  Combined Aerobic and Resistance Training\n",
        "\n",
        "- Let's go through the process of designing an experiment to compare these three exercise interventions.\n",
        "\n",
        "### Designing the Experiment\n",
        "\n",
        "- The first step is to **Define the Objective**. I like to more generally think of this as specifying the research question.\n",
        "\n",
        "    - This sets up the roadmap for how the experiment will be conducted and ultimately what information we are trying to glean from the experiment's results.\n",
        "\n",
        "- Here, we want to know if there is a difference in HbA1c percentage among the three exercise interventions in the population of adults with Type 2 diabetes.\n",
        "\n",
        "- Next, we want to **identify the outcome.** In this case, the outcome is the HbA1c percentage and is measured as a continuous variable.\n",
        "\n",
        "    - For context, HbA1c percentage is a measure of the average blood sugar levels over the past 2-3 months. It is a key measure in the management of diabetes.\n",
        "\n",
        "    - Normal values for HbA1c are typically less than 5.7%. Values between 5.7% and 6.4% are considered prediabetic, and values greater than 6.5% are considered diabetic.\n",
        "\n",
        "- Next, we want to **identify the independent variables and possible lurking variables.**\n",
        "\n",
        "    - Our primary independent variable is the type of exercise intervention. This is a categorical variable with three levels: Aerobic Exercise, Resistance Training, and Combined Aerobic and Resistance Training.\n",
        "\n",
        "    - When we think about lurking variables, there are a few that potentially come to mind. One of which is baseline body composition, as typically measured by BMI category.\n",
        "    - E.g., Underweight, Normal Weight, Overweight, Obese\n",
        "\n",
        "\n",
        "    - A person's body composition can impact how they respond to exercise interventions. For example, individuals with higher body fat percentages may respond differently to exercise interventions than individuals with lower body fat percentages.\n",
        "\n",
        "- Since our population of interest is adults with Type 2 diabetes in general, we know that there is likely to be a wide range of body compositions in our sample.\n",
        "\n",
        "    - In other words, our experimental units are not homogeneous with respect to body composition.\n",
        "\n",
        "- This is where the **Randomized Block Design (RBD)** comes into play.\n",
        "\n",
        "## Randomized Block Design\n",
        "\n",
        "- The randomized block design is a type of experimental design that is used when the experimental units are not homogeneous with respect to a particular variable.\n",
        "\n",
        "    - BMI category in this case\n",
        "\n",
        "- So what we do in this case is partition our sample into homogeneous subgroups called **blocks**. A blocking variable isn't necessarily of interest to us in our experiment, but it is a known, measurable, and likely source of variation that would be beneficial for us to account for/control.\n",
        "\n",
        "- Then, we randomly assign levels of the treatment variable, exercise intervention in this case, to experimental units within each block.\n",
        "\n",
        "    - This is a similar process to CRD randomization, but undertaken on each block independently.\n",
        "\n",
        "- We also need to be clear on the **Data Collection Process and Procedures**.\n",
        "\n",
        "- In this case, we would want to know the participants' BMI category at the onset of the study and for them to be part of the exercise intervention long enough to see measurable results, if appropriate.\n",
        "\n",
        "- For us, we will have them participate for 12 weeks. We will assess their BMI category at the onset of the study and then at the end of the 12 weeks, we will measure each participant's HbA1c percentage.\n",
        "\n",
        "- We will also recruit $r=30$ participants from each of the four BMI categories (the blocks). Then within each block, we will randomly assign them to one of the three exercise interventions for a total sample size of $N=120$.\n",
        "\n",
        "### Descriptive Analysis\n",
        "\n",
        "- How will using RBD change the descriptive and inferential methods we use to answer our research question?\n",
        "\n",
        "    - Only a little bit! The general processes are the same!\n",
        "\n",
        "- Let's start with our descriptive analyses. As before, we will perform some quantitative summaries (e.g., calculate sample means and sample standard deviations) and also generate some descriptive visualizations.\n",
        "\n",
        "- Our data is contained in the `Exercise and Diabetes.xlsx` file."
      ]
    },
    {
      "cell_type": "code",
      "execution_count": null,
      "id": "69367339",
      "metadata": {
        "id": "69367339",
        "outputId": "22ca000f-549c-4e8c-8df4-e425cdd688de"
      },
      "outputs": [
        {
          "name": "stdout",
          "output_type": "stream",
          "text": [
            "<class 'pandas.core.frame.DataFrame'>\n",
            "RangeIndex: 120 entries, 0 to 119\n",
            "Data columns (total 3 columns):\n",
            " #   Column              Non-Null Count  Dtype  \n",
            "---  ------              --------------  -----  \n",
            " 0   BMI Category        120 non-null    object \n",
            " 1   Exercise Treatment  120 non-null    object \n",
            " 2   HbA1c               120 non-null    float64\n",
            "dtypes: float64(1), object(2)\n",
            "memory usage: 2.9+ KB\n",
            "None\n",
            "                                   mean       std\n",
            "BMI Category  Exercise Treatment                 \n",
            "Normal Weight Aerobic             7.275  0.214489\n",
            "              Combined            7.110  0.219140\n",
            "              Resistance          6.943  0.173657\n",
            "Obese         Aerobic             7.796  0.207268\n",
            "              Combined            7.431  0.400096\n",
            "              Resistance          7.393  0.230557\n",
            "Overweight    Aerobic             7.538  0.227928\n",
            "              Combined            7.203  0.168394\n",
            "              Resistance          7.022  0.261143\n",
            "Underweight   Aerobic             7.304  0.305440\n",
            "              Combined            7.154  0.180259\n",
            "              Resistance          6.681  0.197228\n"
          ]
        }
      ],
      "source": [
        "## Import Appropriate Libraries ##\n",
        "\n",
        "import pandas as pd\n",
        "import numpy as np\n",
        "import seaborn as sns\n",
        "import matplotlib.pyplot as plt\n",
        "import statsmodels.api as sm\n",
        "from statsmodels.formula.api import ols\n",
        "from statsmodels.stats.multicomp import pairwise_tukeyhsd\n",
        "\n",
        "## Import Data ##\n",
        "\n",
        "exercise = pd.read_excel('Exercise and Diabetes.xlsx')\n",
        "\n",
        "## Data Integrity Check ##\n",
        "\n",
        "print(exercise.info())\n",
        "\n",
        "## Calculate Means and Standard Deviations\n",
        "## by BMI Group and Treatment Group ##\n",
        "\n",
        "sum_stats = exercise.groupby(['BMI Category','Exercise Treatment'])['HbA1c'].agg(['mean','std'])\n",
        "\n",
        "print(sum_stats)"
      ]
    },
    {
      "cell_type": "markdown",
      "id": "868f18b4",
      "metadata": {
        "id": "868f18b4"
      },
      "source": [
        "- As we can see here, the mean HbA1c tends to increase within each BMI category as we move from Underweight to Normal Weight to Overweight to Obese.\n",
        "\n",
        "- Additionally, within the exercise treatments, it looks like HbA1c tends to decrease as we move from Aerobic to Resistance to Combined.\n",
        "\n",
        "    - This may potentially indicate that the combined treatment is the most effective at reducing HbA1c levels, controlling for BMI category.\n",
        "\n",
        "- Let's visually assess potential differences in HbA1c using a modified boxplot!"
      ]
    },
    {
      "cell_type": "code",
      "execution_count": null,
      "id": "0cc0cb01",
      "metadata": {
        "id": "0cc0cb01",
        "outputId": "3514b641-c16e-4143-d831-fa3b754e3851"
      },
      "outputs": [
        {
          "data": {
            "image/png": "[encoded data removed]",
            "text/plain": [
              "<Figure size 640x480 with 1 Axes>"
            ]
          },
          "metadata": {},
          "output_type": "display_data"
        }
      ],
      "source": [
        "## Step 1: Reorder the 'BMI Category' variable.\n",
        "## Note, this step isn't strictly required but helpful\n",
        "## in this case where we have natural ordering in the\n",
        "## \"BMI Category\" variable. ##\n",
        "\n",
        "## Specify Order ##\n",
        "\n",
        "bmi_order = [\"Underweight\", \"Normal Weight\", \"Overweight\", \"Obese\"]\n",
        "\n",
        "exercise['BMI Category'] = pd.Categorical(exercise['BMI Category'],\n",
        "                                          categories=bmi_order,\n",
        "                                          ordered=True)\n",
        "\n",
        "## Step 2: Create the boxplot using seaborn.\n",
        "## We use the `order` and `hue_order` parameters to ensure the correct order.\n",
        "\n",
        "sns.set_style(\"whitegrid\")\n",
        "\n",
        "sns.boxplot(\n",
        "    data=exercise,\n",
        "    x='Exercise Treatment',\n",
        "    y='HbA1c',\n",
        "    hue='BMI Category',\n",
        "    hue_order=bmi_order, # Manually set the order of the hue variable\n",
        "    palette='pastel' # Choose a color palette\n",
        ")\n",
        "\n",
        "## Step 3: Add labels and titles ##\n",
        "\n",
        "plt.title(\"Effect of Exercise Intervention on HbA1c Percentage\\nby BMI Category\",\n",
        "          loc='center',\n",
        "          fontsize=16)\n",
        "\n",
        "## Show the plot ##\n",
        "\n",
        "plt.show()"
      ]
    },
    {
      "cell_type": "markdown",
      "id": "a4fe8246",
      "metadata": {
        "id": "a4fe8246"
      },
      "source": [
        "- As we can see, the boxplot shows that the combined and resistance treatments tend to produce lower HbA1c levels than the aerobic treatment generally speaking.\n",
        "\n",
        "- Additionally, it appears that the underweight and normal weight categories generally had lower HBA1c levels across the levels of the exercise treatment.\n",
        "\n",
        "- So to conclude, it feels like the answer to our question is likely that the combined and resistance exercise interventions may be effective compared to the aerobic group.\n",
        "\n",
        "    - Now let's see if we have statistical evidence to further confirm our suspicion.\n",
        "\n",
        "### Inferential Analysis\n",
        "\n",
        "- The model for the analysis of an RCB design is:\n",
        "\n",
        "$$ y_{ij} = \\mu + \\tau_i + \\beta_j + \\varepsilon_{ij} $$\n",
        "\n",
        "- where:\n",
        "    - $\\beta_j$ represents the block effects and\n",
        "    - $\\tau_i$ represents the treatment effects.\n",
        "    \n",
        "- In general, we have $i=1,2,\\dots t$ levels of the treatment variable and $j=1,2,\\dots b$ levels of the blocking factor. This implies that we have $t\\times b$ combinations of treatment and blocking effects.\n",
        "\n",
        "- Supposing we have an equal number of $r$ replicates per each combination of treatment and blocking effect, we have a total of $t\\times b \\times r$ observations in our sample.\n",
        "\n",
        "- As before, we assume $\\varepsilon_{ij} \\sim N(0,\\sigma^2)$ which we can assess in a similar manner as CRD.\n",
        "\n",
        "- For our omnibus test of this model, our **main test of concern is the test for the treatments effect.** We don't care too much about the hypothesis test for the blocking factor; we only want to include it in our model since it is a likely and known source of variation.\n",
        "\n",
        "- The null and alternative hypothesis for this effect is essentially the same as the CRD model:\n",
        "\n",
        "$$ H_0: \\mu_1 = \\mu_2 = \\dots = \\mu_t $$\n",
        "\n",
        "$$ H_1: \\text{At least one pair of group means are not equal} $$\n",
        "\n",
        "- The question is though: how is the test constructed? Here's where there are some noteworthy differences.\n",
        "\n",
        "- The way the total amount of variance is estimated in a sample is through a measure called ***Sums of Squares Total (SST)***.\n",
        "\n",
        "- As before, SST is just the sum of the squared differences between each observation and the grand mean. In the case of RBD:\n",
        "\n",
        "$$ SST = \\sum_{i=1}^t\\sum_{j=1}^b(y_{ij} - \\bar{y}_{\\cdot\\cdot})^2 $$\n",
        "\n",
        "-   The logic behind all mostly supervised learning methods (i.e., those in which we have an outcome and predictors/independent variables/explanatory variables) is that the total amount of variation in the outcome can be partitioned into two categories:\n",
        "\n",
        "    -   Explained variation (that is, variation in the response accounted for by the predictors)\n",
        "    -   Unexplained variation (that is, variation in the response not accounted for by the predictors)\n",
        "\n",
        "- With regards to SST, this means that we can break its value down into those two sources:\n",
        "\n",
        "$$ SST = \\text{Explained Variation} + \\text{Unexplained Variation} $$\n",
        "\n",
        "- This concept and equation are referred to as the ***Fundamental ANOVA Identity***.\n",
        "\n",
        "- In CRD, Explained Variation was SSTreat and Unexplained Variation was SSE.\n",
        "\n",
        "- For us here in RBD, we need to also account for the blocking effect in the computation of Explained Variation.\n",
        "\n",
        "- So:\n",
        "\n",
        "$$ \\text{Explained Variation} = SSTreat + SSBlocks $$\n",
        "\n",
        "$$ \\text{Explained Variation} = b\\sum_{i=1}^t(\\bar{y}_{i\\cdot} - \\bar{y}_{\\cdot\\cdot})^2 + t\\sum_{j=1}^{b}(\\bar{y}_{\\cdot j} - \\bar{y}_{\\cdot\\cdot})^2 $$\n",
        "\n",
        "- Here:\n",
        "    - $\\bar{y}_{i\\cdot}$ represents the sample mean of the $i$th treatment,\n",
        "    - $\\bar{y}_{\\cdot j}$ represents the sample mean of the $j$th block, and\n",
        "    - $\\bar{y}_{\\cdot\\cdot}$ represents the overall sample mean.\n",
        "\n",
        "- Compliling all of this into a standard ANOVA table:\n",
        "\n",
        "**Table: ANOVA Table for Randomized Block Design with One Blocking Factor**\n",
        "\n",
        "| Source      | SS         | df              | Mean Square                      | F-Ratio                  |\n",
        "|-------------|------------|-----------------|----------------------------------|--------------------------|\n",
        "| Treatments  | SSTreat    | $(t - 1)$       | $\\frac{SSTreat}{t - 1}$        | $\\frac{MSTreat}{MSE}$  |\n",
        "| Blocks      | SSBlocks   | $(b - 1)$       | $\\frac{SSBlock}{b - 1}$        |                          |\n",
        "| Error       | SSE        | $(t - 1)(b - 1)$ | $\\frac{SSE}{(t - 1)(b - 1)}$ |                          |\n",
        "| Total       | SST        | $N - 1$       |                                  |                          |\n",
        "\n",
        "- Therefore:\n",
        "\n",
        "$$ F_{Stat} = \\frac{MSTreat}{MSE} \\sim F(t-1,(t-1)(b-1)) $$\n",
        "\n",
        "- So as before, if our $F_{Stat} > F_{cv}$ for some given $\\alpha$ level, we would say our data more strongly support the alternative hypothesis.\n",
        "\n",
        "- Let's see how we obtain this information using Python:"
      ]
    },
    {
      "cell_type": "code",
      "execution_count": null,
      "id": "fbea02e4",
      "metadata": {
        "id": "fbea02e4",
        "outputId": "0a185e67-46f2-4ce1-af4f-8ded52f2bdfa"
      },
      "outputs": [
        {
          "name": "stdout",
          "output_type": "stream",
          "text": [
            "                      sum_sq     df          F        PR(>F)\n",
            "Exercise_Treatment  4.399985    2.0  36.512617  5.562431e-13\n",
            "BMI_Category        4.342830    3.0  24.025550  4.020036e-12\n",
            "Residual            6.868835  114.0        NaN           NaN\n"
          ]
        }
      ],
      "source": [
        "## Fit ANOVA Model ##\n",
        "\n",
        "## Note, since my variable names have spaces in them\n",
        "## (e.g., \"Exercise Treatment\"), I have to get rid of those\n",
        "## before we use the ols function ##\n",
        "\n",
        "## First, remove spaces in variable names ##\n",
        "\n",
        "exercise.rename(columns={\"Exercise Treatment\": \"Exercise_Treatment\",\"BMI Category\": \"BMI_Category\"},inplace=True)\n",
        "\n",
        "## Now fit model ##\n",
        "\n",
        "ex_mod = ols(\"HbA1c~Exercise_Treatment+BMI_Category\",data=exercise).fit()\n",
        "\n",
        "## Obtain ANOVA Table ##\n",
        "\n",
        "print(sm.stats.anova_lm(ex_mod,typ=2))"
      ]
    },
    {
      "cell_type": "markdown",
      "id": "8b3e8a9e",
      "metadata": {
        "id": "8b3e8a9e"
      },
      "source": [
        "- Note, remember that before we can feel confident in interpreting these inferential results, we must fist perform **all relevant checks of the assumptions.**\n",
        "\n",
        "- Let's start with normality:"
      ]
    },
    {
      "cell_type": "code",
      "execution_count": null,
      "id": "f10c96f8",
      "metadata": {
        "id": "f10c96f8",
        "outputId": "708841c8-2bb4-40a1-d073-f88ffc373542"
      },
      "outputs": [
        {
          "data": {
            "image/png": "[encoded data removed]",
            "text/plain": [
              "<Figure size 800x800 with 1 Axes>"
            ]
          },
          "metadata": {},
          "output_type": "display_data"
        },
        {
          "name": "stdout",
          "output_type": "stream",
          "text": [
            "ShapiroResult(statistic=np.float64(0.9859184312645741), pvalue=np.float64(0.2480324487841899))\n"
          ]
        }
      ],
      "source": [
        "## Assessing Normality ##\n",
        "\n",
        "## Import scipy ##\n",
        "\n",
        "import scipy.stats as stats\n",
        "\n",
        "## Extract Model Residuals ##\n",
        "\n",
        "ex_residuals = ex_mod.resid\n",
        "\n",
        "## Generate QQ plot ##\n",
        "\n",
        "fig = plt.figure(figsize= (10, 10))\n",
        "ax = fig.add_subplot(111)\n",
        "\n",
        "normality_plot, stat = stats.probplot(ex_residuals, plot= plt, rvalue= True)\n",
        "ax.set_title(\"Probability plot of model residuals\", fontsize= 20)\n",
        "ax.set\n",
        "\n",
        "plt.show()\n",
        "\n",
        "## S-W Test ##\n",
        "\n",
        "print(stats.shapiro(ex_residuals))"
      ]
    },
    {
      "cell_type": "markdown",
      "id": "e01e95fc",
      "metadata": {
        "id": "e01e95fc"
      },
      "source": [
        "- From the results of our visual and testing method of evaluating the normality assumption, we can see that the data support the assumption of normality given that:\n",
        "\n",
        "    - The points in the QQ-plot all generally fall along the line bisecting the plot with little deviation, and\n",
        "    - The p-value associated with the Shapiro-Wilk Test of Normality gives evidence for the null hypothesis of normality.\n",
        "\n",
        "- Let's check on constant variance:"
      ]
    },
    {
      "cell_type": "code",
      "execution_count": null,
      "id": "910236c8",
      "metadata": {
        "id": "910236c8",
        "outputId": "e544279a-d6ec-4128-f878-86cba24a79ab"
      },
      "outputs": [
        {
          "data": {
            "image/png": "[encoded data removed]",
            "text/plain": [
              "<Figure size 640x480 with 1 Axes>"
            ]
          },
          "metadata": {},
          "output_type": "display_data"
        },
        {
          "name": "stdout",
          "output_type": "stream",
          "text": [
            "F-statistic: 0.7641967945725129\n",
            "F p-value: 0.5774637705628842\n"
          ]
        }
      ],
      "source": [
        "## Constant Variance Check ##\n",
        "\n",
        "## Scatterplot of Standardized Residuals to Fitted Values ##\n",
        "\n",
        "## Obtain Standardized Residuals ##\n",
        "\n",
        "standardized_residuals = ex_mod.get_influence().resid_studentized_internal\n",
        "\n",
        "## Get the fitted values ##\n",
        "\n",
        "fitted_values = ex_mod.fittedvalues\n",
        "\n",
        "## Create the plot ##\n",
        "\n",
        "plt.figure(figsize=(8, 6))\n",
        "plt.scatter(fitted_values, standardized_residuals)\n",
        "plt.axhline(y=0, linestyle='dashed', color='red')\n",
        "plt.axhline(y=3, color='blue')\n",
        "plt.axhline(y=-3, color='blue')\n",
        "plt.xlabel(\"Predicted y's\")\n",
        "plt.ylabel(\"Standardized Residuals\")\n",
        "plt.title(\"Standardized Residuals vs. Fitted Values\")\n",
        "plt.style.use('classic')\n",
        "plt.show()\n",
        "\n",
        "## B-P Test ##\n",
        "\n",
        "## Import necessary function: ##\n",
        "\n",
        "from statsmodels.stats.diagnostic import het_breuschpagan\n",
        "\n",
        "## Run B-P Test ##\n",
        "\n",
        "bp_test = het_breuschpagan(ex_mod.resid,ex_mod.model.exog)\n",
        "\n",
        "## Extract F-statistic ##\n",
        "\n",
        "f_statistic = bp_test[2]\n",
        "\n",
        "## Extract its P-Value ##\n",
        "\n",
        "f_p_value = bp_test[3]\n",
        "\n",
        "print(f\"F-statistic: {f_statistic}\")\n",
        "print(f\"F p-value: {f_p_value}\")"
      ]
    },
    {
      "cell_type": "markdown",
      "id": "b766f981",
      "metadata": {
        "id": "b766f981"
      },
      "source": [
        "- Here, we can also see that our visual and testing method support the assumption of constant variance of the residuals. This is because:\n",
        "\n",
        "    - In the scatterplot, the points are all randomly scattered about 0.\n",
        "    - Also in the scatterplot, the heights of the vertical lines are all approximately the same (one possible outlier but overall not bad!)\n",
        "    - The p-value associated with the B-P test statistic indicates that the data more strongly support the null hypothesis of constant variance.\n",
        "\n",
        "- Perfect! So since our assumption are reasonbly supported by the data, we can feel confident in interpreting the results:"
      ]
    },
    {
      "cell_type": "code",
      "execution_count": null,
      "id": "cc371e53",
      "metadata": {
        "id": "cc371e53",
        "outputId": "03ea7e1d-23c1-4778-ffd5-8118b9b8d168"
      },
      "outputs": [
        {
          "name": "stdout",
          "output_type": "stream",
          "text": [
            "                      sum_sq     df          F        PR(>F)\n",
            "Exercise_Treatment  4.399985    2.0  36.512617  5.562431e-13\n",
            "BMI_Category        4.342830    3.0  24.025550  4.020036e-12\n",
            "Residual            6.868835  114.0        NaN           NaN\n"
          ]
        }
      ],
      "source": [
        "## Print ANOVA Table Again ##\n",
        "\n",
        "print(sm.stats.anova_lm(ex_mod,typ=2)) # Note, we use Type 2 SS in models with multiple IV but no\n",
        "## interactions between them, like we do in RBD ##"
      ]
    },
    {
      "cell_type": "markdown",
      "id": "b6ca8181",
      "metadata": {
        "id": "b6ca8181"
      },
      "source": [
        "- Remember, we are focusing just on the `Exercise_Treatment` test since the `BMI_Category` blocking factor is not of interest to us in this study.\n",
        "\n",
        "- Since $F(2,114) = 36.51$ and $p < 0.001$, we would say that our data more strongly support the alternative hypothesis for the test of the main effect.\n",
        "\n",
        "- In context, this suggests that the differences in mean HbA1c levels we observed between the Exercise Treatment groups may be statistically meaningful.\n",
        "\n",
        "- But again, since we have more than two treatment groups, this F-test cannot tell us which differences may be statistically meaningful.\n",
        "\n",
        "    - Here, we'll make use of Tukey's HSD as we did in CRD:"
      ]
    },
    {
      "cell_type": "code",
      "execution_count": null,
      "id": "38e87d79",
      "metadata": {
        "id": "38e87d79",
        "outputId": "cf658edf-d6eb-4b5b-84aa-1f61ee3be2a2"
      },
      "outputs": [
        {
          "name": "stdout",
          "output_type": "stream",
          "text": [
            "   Multiple Comparison of Means - Tukey HSD, FWER=0.05    \n",
            "==========================================================\n",
            " group1    group2   meandiff p-adj   lower   upper  reject\n",
            "----------------------------------------------------------\n",
            " Aerobic   Combined  -0.2537 0.0011 -0.4181 -0.0894   True\n",
            " Aerobic Resistance  -0.4685    0.0 -0.6328 -0.3042   True\n",
            "Combined Resistance  -0.2147 0.0068 -0.3791 -0.0504   True\n",
            "----------------------------------------------------------\n"
          ]
        }
      ],
      "source": [
        "## Import pairwise_tukeyhsd function ##\n",
        "\n",
        "from statsmodels.stats.multicomp import pairwise_tukeyhsd\n",
        "\n",
        "## Perform Tukey's HSD test (Remember, we renamed Exercise Treatment to Exercise_Treatment) ##\n",
        "\n",
        "tukey_result = pairwise_tukeyhsd(endog=exercise['HbA1c'], groups=exercise['Exercise_Treatment'],\n",
        "                                 alpha=0.05)\n",
        "\n",
        "print(tukey_result)"
      ]
    },
    {
      "cell_type": "markdown",
      "id": "324e1d61",
      "metadata": {
        "id": "324e1d61"
      },
      "source": [
        "- **Contextually**, we can see that all of the p-values are less than 0.05, which would indicate that all the HbA1c group means may differ substantially from each other in this population, controlling for BMI category.\n",
        "\n",
        "    - As we saw, people in the Aerobic treatment group had the greatest group mean, followed by Resistance, and then Combined.\n",
        "\n",
        "- Results may indicate that a combined regular exercise routine may be effective at controlling HbA1c levels regardless of BMI category.\n",
        "\n",
        "### Limitations\n",
        "\n",
        "- In this study, what are some limitations?\n",
        "\n",
        "- For starters, we didn't record the participant's initial HbA1c level, so it isn't clear if the level we observed after 12 weeks was meaningfully different from where they began.\n",
        "\n",
        "- From a design choice perspective, we also assume in RBD that we don't have an interaction between the blocks and the treatments, which may not be a reasonable assumption.\n",
        "\n",
        "- Finally, if we misspecify a blocking factor which doesn't substantially reduce SSE, then we are inadvertly decreasing statistical power for our treatment test via the reduction of degrees of freedom for SSE."
      ]
    }
  ],
  "metadata": {
    "language_info": {
      "name": "python"
    },
    "colab": {
      "provenance": []
    },
    "kernelspec": {
      "name": "python3",
      "display_name": "Python 3"
    }
  },
  "nbformat": 4,
  "nbformat_minor": 5
}
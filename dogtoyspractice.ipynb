{
  "nbformat": 4,
  "nbformat_minor": 0,
  "metadata": {
    "colab": {
      "provenance": [],
      "authorship_tag": "ABX9TyPHtvPSHv2kXKrt9AOHwq1w",
      "include_colab_link": true
    },
    "kernelspec": {
      "name": "python3",
      "display_name": "Python 3"
    },
    "language_info": {
      "name": "python"
    }
  },
  "cells": [
    {
      "cell_type": "markdown",
      "metadata": {
        "id": "view-in-github",
        "colab_type": "text"
      },
      "source": [
        "<a href=\"https://colab.research.google.com/github/brookskeehley/STAT-7220-Applied-Experimental-Design/blob/main/dogtoyspractice.ipynb\" target=\"_parent\"><img src=\"https://colab.research.google.com/assets/colab-badge.svg\" alt=\"Open In Colab\"/></a>"
      ]
    },
    {
      "cell_type": "markdown",
      "source": [
        "**DOG TOY PRACTICE EXAMPLE (WEEK 2)**"
      ],
      "metadata": {
        "id": "ktUP4SDKqRJ6"
      }
    },
    {
      "cell_type": "code",
      "execution_count": 3,
      "metadata": {
        "colab": {
          "base_uri": "https://localhost:8080/"
        },
        "id": "o7IDT1SwiNqu",
        "outputId": "274c45a9-7cd9-4995-e53e-5599801307f7"
      },
      "outputs": [
        {
          "output_type": "stream",
          "name": "stdout",
          "text": [
            "📥 Cloning repo from https://github.com/brookskeehley/STAT-7220-Applied-Experimental-Design.git...\n",
            "📂 Changed directory to: /content/STAT-7220-Applied-Experimental-Design\n",
            "🔗 Connected to fork at: https://github.com/brookskeehley/STAT-7220-Applied-Experimental-Design.git\n",
            "📂 Changed directory to: /content/STAT-7220-Applied-Experimental-Design/Comparative Experiments\n"
          ]
        }
      ],
      "source": [
        "# === COURSE REPO SETUP === #\n",
        "\n",
        "# 1. ENTER your GitHub username (the one that owns your fork)\n",
        "github_username = \"brookskeehley\"\n",
        "\n",
        "# 2. Name of the repo (don't change unless your fork name is different)\n",
        "repo_name = \"STAT-7220-Applied-Experimental-Design\"\n",
        "\n",
        "# 3. Build the full repo URL for cloning\n",
        "repo_url = f\"https://github.com/{github_username}/{repo_name}.git\"\n",
        "\n",
        "import os\n",
        "\n",
        "# --- Detect if we're already in a repo ---\n",
        "cwd = os.getcwd()\n",
        "if cwd.endswith(repo_name):\n",
        "    print(f\"✅ Already inside repo folder: {cwd}\")\n",
        "else:\n",
        "    # --- If the repo folder exists, check if it's nested ---\n",
        "    if os.path.exists(repo_name):\n",
        "        print(f\"⚠️ Found existing folder '{repo_name}'. Skipping clone to avoid nesting.\")\n",
        "    else:\n",
        "        print(f\"📥 Cloning repo from {repo_url}...\")\n",
        "        os.system(f\"git clone {repo_url}\")\n",
        "\n",
        "    # --- Change to repo directory ---\n",
        "    if os.path.exists(repo_name):\n",
        "        os.chdir(repo_name)\n",
        "        print(f\"📂 Changed directory to: {os.getcwd()}\")\n",
        "    else:\n",
        "        print(\"❌ ERROR: Repo folder not found. Please check your GitHub username.\")\n",
        "\n",
        "# --- Check if this is the instructor's repo instead of student's fork ---\n",
        "# This command needs to be run from within the repository directory\n",
        "remote_url = os.popen(\"git config --get remote.origin.url\").read().strip()\n",
        "\n",
        "if \"abrown9008\" in remote_url:\n",
        "    print(\"⚠️ WARNING: You are working in the instructor's repo, not your fork!\")\n",
        "    print(\"💡 Please fork the repo to your own account and update `github_username` above.\")\n",
        "else:\n",
        "    print(f\"🔗 Connected to fork at: {remote_url}\")\n",
        "\n",
        "# Set Today's Directory #\n",
        "\n",
        "today_dir = \"Comparative Experiments\"\n",
        "os.chdir(today_dir)\n",
        "print(f\"📂 Changed directory to: {os.getcwd()}\")"
      ]
    },
    {
      "cell_type": "markdown",
      "source": [
        "Let's say we work for a dog toy manufacturing company. We want to manufacture rubber tennis balls for dogs to be able to play with and chew on that are designed to last. As you may know, some dogs who are of certain breeds and/or are aggressive chewers can break toys very easily. We want to avoid that as much as possible with our rubber tennis balls. Our engineers have come up with two different formulations of hard rubber that can be used to manufacture these balls. Let's denote these as Formula 1 and Formula 2.\n",
        "\n",
        "To decide which formulation to use, we want to perform a pressure test to simulate the pressure these rubber tennis balls might experience being clamped down on by a dog's jaw. We test 60 balls of each formulation by putting them each under a hydraulic press and recording the amount of pressure exerted (in PSI) when the ball rips.\n",
        "\n",
        "The data for this experiment are contained in the \"Dog Toys.xlsx\" file.\n",
        "\n",
        "With these data, I want you to create a .ipynb file where you answer the following questions (check the answer key in the Dog Toys Example notebook!):\n",
        "\n",
        "1. Specify the outcome and independent variables. What lurking variables might be present?\n",
        "2. Briefly explain why a completely randomized design might be appropriate in this context\n",
        "3. Perform an appropriate exploratory analysis\n",
        "4. Perform an appropriate inferential analysis (including the specification of  H0  and  H1 )\n",
        "5. Provide contextual conclusions -- which formulation seems more durable?\n",
        "6. What questions remain?"
      ],
      "metadata": {
        "id": "-HcRMsJsiWDK"
      }
    },
    {
      "cell_type": "markdown",
      "source": [
        "# 1. Specify the outcome and independent variables. What lurking variables might be present?\n",
        "\n",
        "Answer: The outcome of this experiement is the maximum PSI of each ball after it has ripped under the hydraulic press. Our independent variable will be the formulation type of the rubber balls. Potential lurking variables could be **the experience of the operater controlling the hydraulic press. To prevent this we should have the same person operating.**"
      ],
      "metadata": {
        "id": "Wf_4gPPliyh9"
      }
    },
    {
      "cell_type": "markdown",
      "source": [
        "# 2. Briefly explain why a completely randomized design might be appropriate in this context.\n",
        "\n",
        "Answer: A CRD is appropriate in this context because our experimental units (the tennis balls) is comparing 2 different formulations. **Additionally, we are randomly manufacturing the toys without many other sources of variation that we would need to control for in a more complex design.**"
      ],
      "metadata": {
        "id": "hTxrwztmkWP3"
      }
    },
    {
      "cell_type": "markdown",
      "source": [
        "# 3. Perform an appropriate exploratory analysis."
      ],
      "metadata": {
        "id": "nGhWc97LnCdY"
      }
    },
    {
      "cell_type": "code",
      "source": [
        "## Import Necessary Packages to Perform Exploratory Analysis ##\n",
        "\n",
        "import pandas as pd\n",
        "import numpy as np\n",
        "import seaborn as sns\n",
        "import matplotlib.pyplot as plt\n",
        "\n",
        "## Import Dog Toys.xlsx file ##\n",
        "\n",
        "dog_toys = pd.read_excel(\"Dog Toys.xlsx\")\n",
        "\n",
        "## Check Data Integrity ##\n",
        "\n",
        "print(dog_toys.info())\n",
        "print(dog_toys.head())\n",
        "print(dog_toys.tail())\n",
        "\n",
        "summary_stats = dog_toys.groupby('Formulation')['PSI'].agg(['mean','std'])\n",
        "\n",
        "print(summary_stats)\n"
      ],
      "metadata": {
        "colab": {
          "base_uri": "https://localhost:8080/"
        },
        "id": "fLRNUQMjp_QS",
        "outputId": "70946273-285f-48a8-9685-171516f58da7"
      },
      "execution_count": 9,
      "outputs": [
        {
          "output_type": "stream",
          "name": "stdout",
          "text": [
            "<class 'pandas.core.frame.DataFrame'>\n",
            "RangeIndex: 120 entries, 0 to 119\n",
            "Data columns (total 2 columns):\n",
            " #   Column       Non-Null Count  Dtype  \n",
            "---  ------       --------------  -----  \n",
            " 0   Formulation  120 non-null    object \n",
            " 1   PSI          120 non-null    float64\n",
            "dtypes: float64(1), object(1)\n",
            "memory usage: 2.0+ KB\n",
            "None\n",
            "  Formulation     PSI\n",
            "0   Formula 1  276.11\n",
            "1   Formula 1  279.98\n",
            "2   Formula 1  304.28\n",
            "3   Formula 1  278.62\n",
            "4   Formula 1  291.15\n",
            "    Formulation     PSI\n",
            "115   Formula 2  296.19\n",
            "116   Formula 2  273.82\n",
            "117   Formula 2  276.84\n",
            "118   Formula 2  293.91\n",
            "119   Formula 2  304.34\n",
            "                   mean        std\n",
            "Formulation                       \n",
            "Formula 1    278.432167  12.450986\n",
            "Formula 2    291.924333  16.644723\n"
          ]
        }
      ]
    },
    {
      "cell_type": "code",
      "source": [
        "## Set a nice minimal style for plot ##\n",
        "\n",
        "sns.set_style(\"whitegrid\")\n",
        "\n",
        "## Create boxplot using seaborn ##\n",
        "\n",
        "sns.boxplot(x=\"Formulation\",y=\"PSI\",data=dog_toys)\n",
        "\n",
        "## Add Title and Labels using matplotlib ##\n",
        "\n",
        "plt.title(\"Boxplot of PSI by Dog Toy Formula\", loc='center')\n",
        "plt.xlabel(\"Dog Toy Formula\")\n",
        "plt.ylabel(\"PSI\")"
      ],
      "metadata": {
        "colab": {
          "base_uri": "https://localhost:8080/",
          "height": 489
        },
        "id": "bhobM_EvrWp5",
        "outputId": "4be54aca-e12f-4d76-e83e-65b061b85c1b"
      },
      "execution_count": 13,
      "outputs": [
        {
          "output_type": "execute_result",
          "data": {
            "text/plain": [
              "Text(0, 0.5, 'PSI')"
            ]
          },
          "metadata": {},
          "execution_count": 13
        },
        {
          "output_type": "display_data",
          "data": {
            "text/plain": [
              "<Figure size 640x480 with 1 Axes>"
            ],
            "image/png": "[encoded data removed]"
          },
          "metadata": {}
        }
      ]
    },
    {
      "cell_type": "markdown",
      "source": [
        "\n",
        "\n",
        "*   Thus we see that since there is very little overlap between the formula 1 and formula 2 toys, so it can be concluded that on average the formula 2 toys can withstand more PSI than formula 1 toys\n",
        "*   **To interpret these results, we can see that Formulation 2 has about 20 more PSI, on average, compared to Formulation 1. Practically, this means that F2 toys can withstand 20 more PSI than can F1 toys. We can see this in the visualization considering that F2 and F1's boxes don't have substantial overlap. In context, this likely implies that the PSI F2 toys can withstand is statistically greater than the PSI F1 toys can withstand.**\n",
        "\n"
      ],
      "metadata": {
        "id": "HJus3lY9tF9C"
      }
    },
    {
      "cell_type": "markdown",
      "source": [
        "# 4. Perform an appropriate inferential analysis (including the specification of H0 and H1 )\n",
        "\n",
        "$$ H_0: \\mu_{\\text{PSI of Formula 1}} = \\mu_{\\text{PSI of Formula 2}} $$\n",
        "\n",
        "$$ H_1: \\mu_{\\text{PSI of Formula 1}} \\neq \\mu_{\\text{PSI of Formula 2}} $$"
      ],
      "metadata": {
        "id": "cbUP9R5OtwBX"
      }
    },
    {
      "cell_type": "code",
      "source": [
        "## Import statsmodels ##\n",
        "\n",
        "import statsmodels.api as sm\n",
        "from statsmodels.formula.api import ols\n",
        "\n",
        "## Fit One-Way ANOVA Model ##\n",
        "\n",
        "mod = ols(\"PSI ~ Formulation\", data=dog_toys).fit()\n",
        "\n",
        "## Get the ANOVA table ##\n",
        "\n",
        "aov_tab = sm.stats.anova_lm(mod,typ=1)\n",
        "\n",
        "print(aov_tab)"
      ],
      "metadata": {
        "colab": {
          "base_uri": "https://localhost:8080/"
        },
        "id": "07lnkKcXuwGe",
        "outputId": "2e0f3446-742b-44fd-d995-52a95d96f159"
      },
      "execution_count": 16,
      "outputs": [
        {
          "output_type": "stream",
          "name": "stdout",
          "text": [
            "                df        sum_sq      mean_sq          F    PR(>F)\n",
            "Formulation    1.0   5461.156841  5461.156841  25.278813  0.000002\n",
            "Residual     118.0  25492.356292   216.036918        NaN       NaN\n"
          ]
        }
      ]
    },
    {
      "cell_type": "markdown",
      "source": [
        "\"So we can see here that $F(1, 118) = 25.28$\n",
        " with an associated p-value of $p < 0.001$\n",
        ". This implies that the data more strongly support the alternative hypothesis. Contextually, this means that the mean difference we observed in the descriptive analysis is statistically meaningful. In other words, F2 toys are likely tougher toys and can withstand stronger bites from pets.\""
      ],
      "metadata": {
        "id": "9ktpxW0wvkRU"
      }
    },
    {
      "cell_type": "markdown",
      "source": [
        "# 6. What questions remain?\n",
        "\n",
        "\"In this experiment, the dog toys were crushed to simulate a dog's bite force. However, dogs mostly have pointed canine teeth for piercing. This experiment didn't consider the effect of biting force in conjunction with teeth piercing. In other words, we know the F2 toys can withstand a strong bite but we don't know if they will easily rip when bit with a sharp tooth. This should be accounted for in a subsequent experiment.\""
      ],
      "metadata": {
        "id": "6Kb2CrFKwLoN"
      }
    }
  ]
}